{
 "cells": [
  {
   "attachments": {},
   "cell_type": "markdown",
   "metadata": {},
   "source": [
    "#### Step1: make folder to store all tickers news data\n"
   ]
  },
  {
   "cell_type": "code",
   "execution_count": 7,
   "metadata": {},
   "outputs": [
    {
     "name": "stderr",
     "output_type": "stream",
     "text": [
      "A subdirectory or file csv_files1 already exists.\n"
     ]
    }
   ],
   "source": [
    "mkdir csv_files"
   ]
  },
  {
   "cell_type": "code",
   "execution_count": 21,
   "metadata": {},
   "outputs": [],
   "source": [
    "import pandas as pd\n",
    "import numpy as np\n",
    "import matplotlib.pyplot as plt\n",
    "import seaborn as sns\n",
    "import sklearn\n",
    "import requests\n",
    "import json\n",
    "import datetime\n",
    "import time\n",
    "import os\n",
    "import re\n",
    "import nltk\n",
    "import time\n",
    "from datetime import datetime, timedelta\n",
    "import warnings\n",
    "warnings.filterwarnings(\"ignore\", category=FutureWarning)\n",
    "import yfinance as yf\n",
    "import random"
   ]
  },
  {
   "cell_type": "code",
   "execution_count": 22,
   "metadata": {},
   "outputs": [],
   "source": [
    "def datetime_to_date(df):\n",
    "    # Drop the 'image' column\n",
    "    if 'image' in df.columns:\n",
    "        df = df.drop('image', axis=1)\n",
    "    if 'source' in df.columns:\n",
    "        df = df.drop('source', axis=1)\n",
    "    if 'url' in df.columns:\n",
    "        df = df.drop('url', axis=1)\n",
    "    if 'id' in df.columns:\n",
    "        df = df.drop('id', axis=1)\n",
    "    # Convert epoch time to date for 'datetime' column\n",
    "    # df = df.sort_values('datetime')\n",
    "    df = df.reset_index(drop=True)\n",
    "    df = df.sort_values('datetime')\n",
    "    df['datetime'] = df['datetime'].apply(lambda x: pd.to_datetime(x, unit='s').date())\n",
    "    df = df.reset_index(drop=True)\n",
    "    \n",
    "    return df"
   ]
  },
  {
   "attachments": {},
   "cell_type": "markdown",
   "metadata": {},
   "source": [
    "### Play with dates\n",
    "start_date = datetime.strptime(\"2021-09-01\", \"%Y-%m-%d\").date()\n",
    "\n",
    "end_date = datetime.strptime(\"2023-05-01\", \"%Y-%m-%d\").date()\n",
    "\n",
    "make end date before 2020\n",
    "and start before 2018 you will not see anydata , as not able to fetch\n"
   ]
  },
  {
   "attachments": {},
   "cell_type": "markdown",
   "metadata": {},
   "source": [
    "Ek jupyter file me laga k rakh lo aur fir kuch aur kaam kro preprocessing pe"
   ]
  },
  {
   "cell_type": "code",
   "execution_count": 11,
   "metadata": {},
   "outputs": [
    {
     "name": "stdout",
     "output_type": "stream",
     "text": [
      "Defaulting to user installation because normal site-packages is not writeable\n",
      "Looking in indexes: https://pypi.org/simple, https://pypi.ngc.nvidia.com\n"
     ]
    },
    {
     "name": "stderr",
     "output_type": "stream",
     "text": [
      "ERROR: Could not find a version that satisfies the requirement finnhub (from versions: none)\n",
      "ERROR: No matching distribution found for finnhub\n"
     ]
    }
   ],
   "source": [
    "!pip install finnhub"
   ]
  },
  {
   "cell_type": "code",
   "execution_count": 31,
   "metadata": {},
   "outputs": [
    {
     "data": {
      "text/plain": [
       "<finnhub.client.Client at 0x1628d6d6920>"
      ]
     },
     "execution_count": 31,
     "metadata": {},
     "output_type": "execute_result"
    }
   ],
   "source": [
    "import finnhub\n",
    "# Setup client\n",
    "finnhub_client = finnhub.Client(api_key=\"ch9l37pr01qrd9soe8j0ch9l37pr01qrd9soe8jg\")\n",
    "finnhub_client"
   ]
  },
  {
   "cell_type": "code",
   "execution_count": null,
   "metadata": {},
   "outputs": [],
   "source": [
    "# List of ticker symbols\n",
    "ticker_symbol = ['TSLA','GOOG','INTU','ALGN','AMZN','AAL','MSFT','AMAT','FOX',\n",
    "                 'SBUX','WDC','NFLX','COST','ADBE','EBAY','WDAY','LRCX','BIDU','PYPL']\n",
    "\n",
    "for ticker in ticker_symbol:\n",
    "    # for each ticker\n",
    "    print(ticker)\n",
    "    start_date = datetime.strptime(\"2021-09-01\", \"%Y-%m-%d\").date()\n",
    "    end_date = datetime.strptime(\"2023-05-01\", \"%Y-%m-%d\").date()\n",
    "    first_iteration = True\n",
    "    #create file me column name to write once then append\n",
    "    while(start_date <= end_date):\n",
    "        jump_date = start_date + timedelta(days=10)\n",
    "        a = finnhub_client.company_news(ticker, _from=start_date, to=jump_date)\n",
    "        df = pd.DataFrame(a)\n",
    "        start_date = jump_date\n",
    "        # Wait for 1 second to avoid being blocked by Google\n",
    "        time.sleep(2)\n",
    "        # append to file\n",
    "        if not df.empty:\n",
    "            if first_iteration:\n",
    "                with open(f'{ticker}1.csv',mode ='w') as file:\n",
    "                # append the dataframes accordingly\n",
    "                    df.to_csv(file, header=True, index=False)\n",
    "                    first_iteration = False\n",
    "            else:\n",
    "                with open(f'{ticker}1.csv',mode ='a') as file:\n",
    "                    df.to_csv(file,header=False, index=False)\n",
    "\n",
    "    df = pd.read_csv(f'{ticker}1.csv')\n",
    "    df = datetime_to_date(df)\n",
    "    df = df.to_csv(f'csv_files/{ticker}1.csv')\n",
    "    time.sleep(10)"
   ]
  },
  {
   "attachments": {},
   "cell_type": "markdown",
   "metadata": {},
   "source": [
    "## now have to attach stock rates to each"
   ]
  },
  {
   "cell_type": "code",
   "execution_count": 1,
   "metadata": {},
   "outputs": [],
   "source": [
    "mkdir stock_new_data"
   ]
  },
  {
   "cell_type": "code",
   "execution_count": 32,
   "metadata": {},
   "outputs": [],
   "source": [
    "# create a dictionary of date, open, and close values for a stock\n",
    "def get_stock_data(ticker, start_date = \"2020-05-02\", end_date = \"2023-05-04\"):\n",
    "    stock_data = yf.download(ticker, start=start_date, end=end_date)\n",
    "    stock_dict = {}\n",
    "    for date, data in stock_data.iterrows():\n",
    "        stock_dict[date.strftime('%Y-%m-%d')] = {\"Open\": data[\"Open\"], \"Close\": data[\"Close\"]}\n",
    "    return stock_dict"
   ]
  },
  {
   "cell_type": "code",
   "execution_count": 23,
   "metadata": {},
   "outputs": [],
   "source": [
    "def remove_duplicacy(df):\n",
    "    df = df.drop_duplicates(subset=['headline'])\n",
    "    df = df.drop_duplicates(subset=['summary'])\n",
    "    df = df.drop(columns='category',axis=1)\n",
    "    return df"
   ]
  },
  {
   "cell_type": "code",
   "execution_count": null,
   "metadata": {},
   "outputs": [],
   "source": [
    "ticker_symbol = ['TSLA','GOOG','INTU','ALGN','AMZN','AAL','MSFT','AMAT','FOX',\n",
    "                 'SBUX','WDC','NFLX','COST','ADBE','EBAY','WDAY','LRCX','BIDU','PYPL']\n",
    "# ticker_symbol = ['ALGN']\n",
    "for ticker in ticker_symbol:\n",
    "    df = pd.read_csv(f'unprocessed/{ticker}.csv')\n",
    "    df = datetime_to_date(df)\n",
    "    df = remove_duplicacy(df)\n",
    "    stock_dict = get_stock_data(ticker)\n",
    "    # print(stock_dict)\n",
    "    for row in df.itertuples():\n",
    "        start_date = row.datetime\n",
    "        if str(start_date) in stock_dict:\n",
    "            df.loc[row.Index, \"Open\"] = stock_dict[str(start_date)][\"Open\"]\n",
    "            df.loc[row.Index, \"Close\"] = stock_dict[str(start_date)][\"Close\"]\n",
    "            if df.loc[row.Index, \"Close\"] > df.loc[row.Index, \"Open\"]:\n",
    "                df.loc[row.Index, \"result\"] = 1\n",
    "                # df[\"result\"] = df[\"result\"].astype(int)\n",
    "            else:\n",
    "                df.loc[row.Index, \"result\"] = 0\n",
    "    df = df.dropna(how='any')\n",
    "    #for latest as stock is not there\n",
    "    df.to_csv(f'stock_new_data/{ticker}.csv',index=False)\n",
    "    # print(stock_dict)"
   ]
  },
  {
   "cell_type": "code",
   "execution_count": 61,
   "metadata": {},
   "outputs": [
    {
     "data": {
      "text/html": [
       "<div>\n",
       "<style scoped>\n",
       "    .dataframe tbody tr th:only-of-type {\n",
       "        vertical-align: middle;\n",
       "    }\n",
       "\n",
       "    .dataframe tbody tr th {\n",
       "        vertical-align: top;\n",
       "    }\n",
       "\n",
       "    .dataframe thead th {\n",
       "        text-align: right;\n",
       "    }\n",
       "</style>\n",
       "<table border=\"1\" class=\"dataframe\">\n",
       "  <thead>\n",
       "    <tr style=\"text-align: right;\">\n",
       "      <th></th>\n",
       "      <th>datetime</th>\n",
       "      <th>headline</th>\n",
       "      <th>related</th>\n",
       "      <th>summary</th>\n",
       "      <th>Open</th>\n",
       "      <th>Close</th>\n",
       "      <th>result</th>\n",
       "    </tr>\n",
       "  </thead>\n",
       "  <tbody>\n",
       "    <tr>\n",
       "      <th>0</th>\n",
       "      <td>2022-05-03</td>\n",
       "      <td>Who Is Elon Musk? What Is His Claim to Fame?</td>\n",
       "      <td>TSLA</td>\n",
       "      <td>Entrepreneur Elon Musk has achieved global fam...</td>\n",
       "      <td>301.059998</td>\n",
       "      <td>303.083344</td>\n",
       "      <td>1.0</td>\n",
       "    </tr>\n",
       "    <tr>\n",
       "      <th>1</th>\n",
       "      <td>2022-05-19</td>\n",
       "      <td>EV Start-Ups Need Cash. Lucid Is Getting More ...</td>\n",
       "      <td>TSLA</td>\n",
       "      <td>Lucid is getting financing and incentives for ...</td>\n",
       "      <td>235.666672</td>\n",
       "      <td>236.473328</td>\n",
       "      <td>1.0</td>\n",
       "    </tr>\n",
       "    <tr>\n",
       "      <th>2</th>\n",
       "      <td>2022-05-19</td>\n",
       "      <td>Why Tesla Fan Dan Ives Just Slashed His Price ...</td>\n",
       "      <td>TSLA</td>\n",
       "      <td>Dan Ives has reduced his TSLA stock price targ...</td>\n",
       "      <td>235.666672</td>\n",
       "      <td>236.473328</td>\n",
       "      <td>1.0</td>\n",
       "    </tr>\n",
       "    <tr>\n",
       "      <th>3</th>\n",
       "      <td>2022-05-19</td>\n",
       "      <td>Mortgage Interest Rates Price Predictions: Whe...</td>\n",
       "      <td>TSLA</td>\n",
       "      <td>As inflation pushes mortgage interest rates hi...</td>\n",
       "      <td>235.666672</td>\n",
       "      <td>236.473328</td>\n",
       "      <td>1.0</td>\n",
       "    </tr>\n",
       "    <tr>\n",
       "      <th>4</th>\n",
       "      <td>2022-05-19</td>\n",
       "      <td>Tesla’s Removal From S&amp;P Index Sparks Debate A...</td>\n",
       "      <td>TSLA</td>\n",
       "      <td>(Bloomberg) -- A benchmark ESG stock index has...</td>\n",
       "      <td>235.666672</td>\n",
       "      <td>236.473328</td>\n",
       "      <td>1.0</td>\n",
       "    </tr>\n",
       "    <tr>\n",
       "      <th>...</th>\n",
       "      <td>...</td>\n",
       "      <td>...</td>\n",
       "      <td>...</td>\n",
       "      <td>...</td>\n",
       "      <td>...</td>\n",
       "      <td>...</td>\n",
       "      <td>...</td>\n",
       "    </tr>\n",
       "    <tr>\n",
       "      <th>3821</th>\n",
       "      <td>2023-05-03</td>\n",
       "      <td>Ford v Tesla: The EV price war continues</td>\n",
       "      <td>TSLA</td>\n",
       "      <td>While other automakers have balked, Ford is ro...</td>\n",
       "      <td>160.009995</td>\n",
       "      <td>160.610001</td>\n",
       "      <td>1.0</td>\n",
       "    </tr>\n",
       "    <tr>\n",
       "      <th>3822</th>\n",
       "      <td>2023-05-03</td>\n",
       "      <td>UPDATE 2-Ford CEO calls electric vehicle marke...</td>\n",
       "      <td>TSLA</td>\n",
       "      <td>Ford CEO Jim Farley said on Wednesday that pri...</td>\n",
       "      <td>160.009995</td>\n",
       "      <td>160.610001</td>\n",
       "      <td>1.0</td>\n",
       "    </tr>\n",
       "    <tr>\n",
       "      <th>3823</th>\n",
       "      <td>2023-05-03</td>\n",
       "      <td>'I Think People Can Make It On $999 Million,' ...</td>\n",
       "      <td>TSLA</td>\n",
       "      <td>It’s no secret that U.S. Sen. Bernie Sanders i...</td>\n",
       "      <td>160.009995</td>\n",
       "      <td>160.610001</td>\n",
       "      <td>1.0</td>\n",
       "    </tr>\n",
       "    <tr>\n",
       "      <th>3824</th>\n",
       "      <td>2023-05-03</td>\n",
       "      <td>Ford CEO calls electric vehicle market price c...</td>\n",
       "      <td>TSLA</td>\n",
       "      <td>Ford CEO Jim Farley said on Wednesday that pri...</td>\n",
       "      <td>160.009995</td>\n",
       "      <td>160.610001</td>\n",
       "      <td>1.0</td>\n",
       "    </tr>\n",
       "    <tr>\n",
       "      <th>3825</th>\n",
       "      <td>2023-05-03</td>\n",
       "      <td>10 Best Engineering Stocks to Buy Now</td>\n",
       "      <td>TSLA</td>\n",
       "      <td>In this article, we will discuss the 10 best e...</td>\n",
       "      <td>160.009995</td>\n",
       "      <td>160.610001</td>\n",
       "      <td>1.0</td>\n",
       "    </tr>\n",
       "  </tbody>\n",
       "</table>\n",
       "<p>3826 rows × 7 columns</p>\n",
       "</div>"
      ],
      "text/plain": [
       "        datetime                                           headline related  \\\n",
       "0     2022-05-03       Who Is Elon Musk? What Is His Claim to Fame?    TSLA   \n",
       "1     2022-05-19  EV Start-Ups Need Cash. Lucid Is Getting More ...    TSLA   \n",
       "2     2022-05-19  Why Tesla Fan Dan Ives Just Slashed His Price ...    TSLA   \n",
       "3     2022-05-19  Mortgage Interest Rates Price Predictions: Whe...    TSLA   \n",
       "4     2022-05-19  Tesla’s Removal From S&P Index Sparks Debate A...    TSLA   \n",
       "...          ...                                                ...     ...   \n",
       "3821  2023-05-03           Ford v Tesla: The EV price war continues    TSLA   \n",
       "3822  2023-05-03  UPDATE 2-Ford CEO calls electric vehicle marke...    TSLA   \n",
       "3823  2023-05-03  'I Think People Can Make It On $999 Million,' ...    TSLA   \n",
       "3824  2023-05-03  Ford CEO calls electric vehicle market price c...    TSLA   \n",
       "3825  2023-05-03              10 Best Engineering Stocks to Buy Now    TSLA   \n",
       "\n",
       "                                                summary        Open  \\\n",
       "0     Entrepreneur Elon Musk has achieved global fam...  301.059998   \n",
       "1     Lucid is getting financing and incentives for ...  235.666672   \n",
       "2     Dan Ives has reduced his TSLA stock price targ...  235.666672   \n",
       "3     As inflation pushes mortgage interest rates hi...  235.666672   \n",
       "4     (Bloomberg) -- A benchmark ESG stock index has...  235.666672   \n",
       "...                                                 ...         ...   \n",
       "3821  While other automakers have balked, Ford is ro...  160.009995   \n",
       "3822  Ford CEO Jim Farley said on Wednesday that pri...  160.009995   \n",
       "3823  It’s no secret that U.S. Sen. Bernie Sanders i...  160.009995   \n",
       "3824  Ford CEO Jim Farley said on Wednesday that pri...  160.009995   \n",
       "3825  In this article, we will discuss the 10 best e...  160.009995   \n",
       "\n",
       "           Close  result  \n",
       "0     303.083344     1.0  \n",
       "1     236.473328     1.0  \n",
       "2     236.473328     1.0  \n",
       "3     236.473328     1.0  \n",
       "4     236.473328     1.0  \n",
       "...          ...     ...  \n",
       "3821  160.610001     1.0  \n",
       "3822  160.610001     1.0  \n",
       "3823  160.610001     1.0  \n",
       "3824  160.610001     1.0  \n",
       "3825  160.610001     1.0  \n",
       "\n",
       "[3826 rows x 7 columns]"
      ]
     },
     "execution_count": 61,
     "metadata": {},
     "output_type": "execute_result"
    }
   ],
   "source": [
    "a = pd.read_csv(\"stock_new_data/TSLA.csv\")\n",
    "a"
   ]
  },
  {
   "attachments": {},
   "cell_type": "markdown",
   "metadata": {},
   "source": [
    "# now filling the vacant dates with newst 1/30 news and merge"
   ]
  },
  {
   "cell_type": "code",
   "execution_count": 68,
   "metadata": {},
   "outputs": [],
   "source": [
    "ticker_symbol = ['TSLA','GOOG','INTU','ALGN','AMZN','AAL','MSFT','AMAT','FOX','SBUX','WDC','NFLX','COST','ADBE','EBAY','WDAY','LRCX','BIDU','PYPL']\n",
    "\n",
    "first_iteration = True\n",
    "df=pd.DataFrame()\n",
    "for ticker in ticker_symbol:\n",
    "    a = pd.read_csv(f'stock_new_data/{ticker}.csv')\n",
    "    if first_iteration:\n",
    "        df = a\n",
    "        first_iteration=False\n",
    "    else:\n",
    "        df = df.append(a)\n",
    "df.to_csv(\"a.csv\",index=False)\n",
    "\n"
   ]
  },
  {
   "attachments": {},
   "cell_type": "markdown",
   "metadata": {},
   "source": [
    "# Now i want a fill all those dates where not dates\n"
   ]
  },
  {
   "cell_type": "code",
   "execution_count": 37,
   "metadata": {},
   "outputs": [],
   "source": [
    "def stock_date_range(df):\n",
    "    # Assuming your existing DataFrame is called df and the datetime column is named 'datetime'\n",
    "    start_date = pd.to_datetime(df.loc[0, 'datetime'])\n",
    "    end_date = pd.to_datetime(df.loc[df.shape[0]-1, 'datetime'])\n",
    "\n",
    "    # Create a DataFrame with all dates between start_date and end_date\n",
    "    date_range = pd.date_range(start_date, end_date, freq='D').to_list()\n",
    "    date_df = pd.DataFrame({'date': date_range})\n",
    "    \n",
    "    # Convert the date column to a list of strings\n",
    "    date_list = date_df['date'].astype(str).tolist()\n",
    "    # print(date_list)\n",
    "    return date_list"
   ]
  },
  {
   "cell_type": "code",
   "execution_count": 38,
   "metadata": {},
   "outputs": [],
   "source": [
    "def stock_unique_dates(df):\n",
    "    unique_dates = df['datetime'].unique().tolist()\n",
    "    # print(unique_dates)\n",
    "    return unique_dates"
   ]
  },
  {
   "attachments": {},
   "cell_type": "markdown",
   "metadata": {},
   "source": [
    "def update_dataframe(df,dates_left):\n",
    "    \n",
    "    "
   ]
  },
  {
   "cell_type": "code",
   "execution_count": 26,
   "metadata": {},
   "outputs": [],
   "source": [
    "def update_dataframe(df,dates_left):\n",
    "    for _date in dates_left:\n",
    "    # Find the row in df with the datetime closest to _date\n",
    "        row = df.loc[(df['datetime'] - pd.to_datetime(_date)).abs().idxmin()]\n",
    "\n",
    "        # Create a new DataFrame with just the _date and the other columns from the row\n",
    "        new_row = pd.DataFrame({\n",
    "            'datetime': [_date],\n",
    "            'headline': [row['headline']],\n",
    "            'related': [row['related']],\n",
    "            'summary': [row['summary']],\n",
    "            'Open': [row['Open']],\n",
    "            'Close': [row['Close']],\n",
    "            'result': [row['result']]\n",
    "        })\n",
    "\n",
    "        # Append the new row to the original DataFrame\n",
    "        df = df.append(new_row, ignore_index=True)\n",
    "\n",
    "    # Print the updated DataFrame\n",
    "    print(df)\n",
    "    \n",
    "    "
   ]
  },
  {
   "attachments": {},
   "cell_type": "markdown",
   "metadata": {},
   "source": [
    "\n",
    "## very bad results"
   ]
  },
  {
   "cell_type": "code",
   "execution_count": 72,
   "metadata": {},
   "outputs": [
    {
     "name": "stdout",
     "output_type": "stream",
     "text": [
      "     datetime                                           headline related  \\\n",
      "0  2022-05-09  7 Dental Stocks to Buy as Patients Face the Dr...    ALGN   \n",
      "1  2022-05-09  Cable companies to offer effectively free inte...    ALGN   \n",
      "2  2022-05-09  The Smart Money Is Putting a Bullish Spin on t...    ALGN   \n",
      "3  2022-05-09  Align Technology Inc. stock underperforms Mond...    ALGN   \n",
      "4  2022-05-10  Align Technology Inc. stock underperforms Tues...    ALGN   \n",
      "\n",
      "                                             summary        Open       Close  \\\n",
      "0  The two years away from the “chair” could cyni...  274.220001  268.959991   \n",
      "1  The news means that tens of millions of househ...  274.220001  268.959991   \n",
      "2  We’re seeing a bullish indicator -- another in...  274.220001  268.959991   \n",
      "3  Shares of Align Technology Inc. shed 4.08% to ...  274.220001  268.959991   \n",
      "4  Shares of Align Technology Inc. shed 4.03% to ...  273.500000  258.130005   \n",
      "\n",
      "   result  \n",
      "0     0.0  \n",
      "1     0.0  \n",
      "2     0.0  \n",
      "3     0.0  \n",
      "4     0.0  \n",
      "['2022-05-09', '2022-05-10', '2022-05-11', '2022-05-13', '2022-05-16', '2022-05-17', '2022-05-18', '2022-05-19', '2022-07-31', '2022-10-17', '2022-08-06', '2022-10-14', '2023-02-19', '2022-07-09', '2023-04-23', '2022-07-17', '2022-11-05', '2023-04-12', '2022-07-19', '2023-02-21', '2022-08-24', '2022-05-04', '2023-03-29', '2022-06-16', '2022-08-09', '2022-11-25', '2023-02-20', '2023-03-30', '2023-04-08', '2022-10-25', '2022-05-06', '2022-06-27', '2023-02-07', '2023-04-20', '2023-02-18', '2023-01-05', '2023-02-06', '2023-02-22', '2023-03-05', '2022-07-23', '2023-02-25', '2023-02-27', '2022-10-29', '2022-12-28', '2022-10-01', '2022-07-03', '2023-01-11', '2022-12-10', '2022-09-17', '2023-01-16', '2023-04-15', '2022-12-09', '2022-09-30', '2022-12-07', '2023-03-22', '2023-01-02', '2022-10-12', '2022-12-23', '2022-11-19', '2022-06-04', '2022-06-11', '2023-04-05', '2022-09-13', '2022-10-13', '2023-04-29', '2022-11-23', '2022-10-15', '2022-05-31', '2022-06-20', '2022-12-31', '2022-06-26', '2022-12-12', '2022-10-30', '2022-08-25', '2022-11-13', '2022-07-16', '2022-07-10', '2022-10-16', '2023-01-07', '2023-01-09', '2022-09-05', '2023-04-30', '2022-07-15', '2022-06-30', '2023-02-11', '2022-07-13', '2022-10-08', '2023-04-09', '2022-08-21', '2023-04-06', '2022-07-11', '2022-11-22', '2023-01-21', '2022-09-12', '2022-07-30', '2023-02-12', '2023-04-01', '2022-06-15', '2022-09-26', '2022-06-14', '2023-04-26', '2022-11-12', '2022-09-07', '2022-11-09', '2022-05-05', '2023-03-11', '2022-11-06', '2022-10-23', '2023-02-28', '2022-09-22', '2022-08-14', '2022-09-29', '2022-09-11', '2022-12-18', '2022-10-22', '2023-01-28', '2022-06-18', '2023-03-07', '2022-08-23', '2022-12-06', '2022-06-01', '2022-11-27', '2023-03-28', '2023-01-15', '2023-01-20', '2022-06-12', '2022-12-29', '2023-04-16', '2022-07-01', '2022-09-10', '2023-03-08', '2023-03-21', '2022-12-13', '2023-04-10', '2023-02-26', '2022-10-07', '2022-07-25', '2022-05-07', '2023-03-25', '2022-11-20', '2022-06-25', '2022-07-02', '2022-11-08', '2023-02-04', '2023-02-05', '2022-05-12', '2022-07-04', '2023-01-10', '2023-03-09', '2023-04-24', '2022-08-20', '2022-07-24', '2022-09-25', '2022-12-24', '2022-09-27', '2022-11-07', '2022-08-08', '2022-05-14', '2023-01-29', '2023-03-27', '2022-11-11', '2022-07-26', '2022-10-24', '2022-12-25', '2023-03-04', '2022-05-22', '2023-04-13', '2023-04-22', '2022-09-28', '2022-12-03', '2022-09-23', '2023-03-10', '2022-08-13', '2022-05-08', '2022-06-13', '2023-01-12', '2022-12-11', '2022-09-09', '2023-01-06', '2022-12-17', '2022-07-12', '2022-06-05', '2022-10-11', '2022-12-27', '2022-11-21', '2023-01-22', '2022-06-09', '2022-12-21', '2023-02-23', '2023-04-11', '2023-03-12', '2022-05-21', '2022-10-10', '2022-10-02', '2023-02-08', '2022-12-30', '2022-06-10', '2022-08-07', '2023-03-26', '2022-05-25', '2022-08-28', '2022-10-09', '2022-07-14', '2022-05-28', '2022-09-08', '2022-05-29', '2023-02-24', '2023-03-23', '2022-05-15', '2023-04-07', '2022-08-27', '2023-03-06', '2022-06-17', '2022-05-27', '2022-12-26', '2022-06-28', '2022-12-22', '2022-11-26', '2022-05-30', '2023-01-01', '2022-06-02', '2022-12-08', '2023-04-21', '2023-01-08', '2022-09-18', '2023-03-24', '2023-03-19', '2022-09-04', '2022-09-24', '2022-06-24', '2023-01-14', '2022-11-24', '2022-12-04', '2022-09-03', '2023-03-18', '2022-11-10', '2022-06-19', '2023-04-02', '2022-05-26', '2022-09-14']\n",
      "240\n"
     ]
    }
   ],
   "source": [
    "df= pd.read_csv(\"stock_new_data/ALGN.csv\")\n",
    "# print(df.head())\n",
    "for _date in gap_list:\n",
    "    # Find the row in df with the datetime closest to _date\n",
    "    # print(df['datetime'])\n",
    "    _date = pd.to_datetime(_date).strftime('%Y-%m-%d')\n",
    "    # print(_date)\n",
    "    row = df.loc[(pd.to_datetime(df['datetime']) - pd.to_datetime(_date)).abs().idxmin()]\n",
    "\n",
    "\n",
    "    # Create a new DataFrame with just the _date and the other columns from the row\n",
    "    new_row = pd.DataFrame({\n",
    "        'datetime': [_date],\n",
    "        'headline': [row['headline']],\n",
    "        'related': [row['related']],\n",
    "        'summary': [row['summary']],\n",
    "        'Open': [row['Open']],\n",
    "        'Close': [row['Close']],\n",
    "        'result': [row['result']]\n",
    "    })\n",
    "\n",
    "    # Append the new row to the original DataFrame\n",
    "    df = df.append(new_row, ignore_index=True)\n",
    "\n",
    "# Print the updated DataFrame\n",
    "print(df.head())\n",
    "# update_dataframe(df,gap_list)\n",
    "\n",
    "print(stock_unique_dates(df))\n",
    "print(len(stock_unique_dates(df)))\n",
    "df.to_csv(\"temp1.csv\", index=False)"
   ]
  },
  {
   "attachments": {},
   "cell_type": "markdown",
   "metadata": {},
   "source": [
    "## very bad results\n",
    "### instead of randomly select the minimum we have to use random and select from min 10 news surrounding"
   ]
  },
  {
   "cell_type": "code",
   "execution_count": 39,
   "metadata": {},
   "outputs": [],
   "source": [
    "import random"
   ]
  },
  {
   "cell_type": "code",
   "execution_count": 50,
   "metadata": {},
   "outputs": [],
   "source": [
    "def fill_dataframe1(df, dates_left):\n",
    "    new_df = pd.DataFrame(columns=['datetime', 'headline', 'related', 'summary', 'Open', 'Close', 'result'])\n",
    "    for _date in dates_left:\n",
    "        nearest_rows = df.loc[(pd.to_datetime(df['datetime']) - pd.to_datetime(_date)).abs().argsort()[:15]]\n",
    "        row = nearest_rows.iloc[random.randint(0, min(len(nearest_rows), 15) - 1)]\n",
    "        new_row = {'datetime': _date, 'headline': row['headline'], 'related': row['related'], 'summary': row['summary'], 'Open': row['Open'], 'Close': row['Close'], 'result': row['result']}\n",
    "        new_df = new_df.append(new_row, ignore_index=True)\n",
    "    return new_df\n"
   ]
  },
  {
   "cell_type": "code",
   "execution_count": 59,
   "metadata": {},
   "outputs": [
    {
     "data": {
      "text/html": [
       "<div>\n",
       "<style scoped>\n",
       "    .dataframe tbody tr th:only-of-type {\n",
       "        vertical-align: middle;\n",
       "    }\n",
       "\n",
       "    .dataframe tbody tr th {\n",
       "        vertical-align: top;\n",
       "    }\n",
       "\n",
       "    .dataframe thead th {\n",
       "        text-align: right;\n",
       "    }\n",
       "</style>\n",
       "<table border=\"1\" class=\"dataframe\">\n",
       "  <thead>\n",
       "    <tr style=\"text-align: right;\">\n",
       "      <th></th>\n",
       "      <th>datetime</th>\n",
       "      <th>headline</th>\n",
       "      <th>related</th>\n",
       "      <th>summary</th>\n",
       "      <th>Open</th>\n",
       "      <th>Close</th>\n",
       "      <th>result</th>\n",
       "    </tr>\n",
       "  </thead>\n",
       "  <tbody>\n",
       "    <tr>\n",
       "      <th>0</th>\n",
       "      <td>2022-05-09</td>\n",
       "      <td>Align Technology Inc. stock underperforms Mond...</td>\n",
       "      <td>ALGN</td>\n",
       "      <td>Shares of Align Technology Inc. shed 4.08% to ...</td>\n",
       "      <td>274.220001</td>\n",
       "      <td>268.959991</td>\n",
       "      <td>0.0</td>\n",
       "    </tr>\n",
       "    <tr>\n",
       "      <th>1</th>\n",
       "      <td>2022-05-10</td>\n",
       "      <td>Align Technology Inc. stock outperforms market...</td>\n",
       "      <td>ALGN</td>\n",
       "      <td>Shares of Align Technology Inc. rose 6.16% to ...</td>\n",
       "      <td>264.420013</td>\n",
       "      <td>275.519989</td>\n",
       "      <td>1.0</td>\n",
       "    </tr>\n",
       "    <tr>\n",
       "      <th>2</th>\n",
       "      <td>2022-05-11</td>\n",
       "      <td>7 Dental Stocks to Buy as Patients Face the Dr...</td>\n",
       "      <td>ALGN</td>\n",
       "      <td>The two years away from the “chair” could cyni...</td>\n",
       "      <td>274.220001</td>\n",
       "      <td>268.959991</td>\n",
       "      <td>0.0</td>\n",
       "    </tr>\n",
       "    <tr>\n",
       "      <th>3</th>\n",
       "      <td>2022-05-12</td>\n",
       "      <td>Align Technology Inc. stock outperforms market...</td>\n",
       "      <td>ALGN</td>\n",
       "      <td>Shares of Align Technology Inc. rose 6.16% to ...</td>\n",
       "      <td>264.420013</td>\n",
       "      <td>275.519989</td>\n",
       "      <td>1.0</td>\n",
       "    </tr>\n",
       "    <tr>\n",
       "      <th>4</th>\n",
       "      <td>2022-05-13</td>\n",
       "      <td>Align Technology Inc. stock rises Tuesday, out...</td>\n",
       "      <td>ALGN</td>\n",
       "      <td>Shares of Align Technology Inc. rose 2.33% to ...</td>\n",
       "      <td>279.959991</td>\n",
       "      <td>280.589996</td>\n",
       "      <td>1.0</td>\n",
       "    </tr>\n",
       "    <tr>\n",
       "      <th>...</th>\n",
       "      <td>...</td>\n",
       "      <td>...</td>\n",
       "      <td>...</td>\n",
       "      <td>...</td>\n",
       "      <td>...</td>\n",
       "      <td>...</td>\n",
       "      <td>...</td>\n",
       "    </tr>\n",
       "    <tr>\n",
       "      <th>355</th>\n",
       "      <td>2023-04-29</td>\n",
       "      <td>These 2 Stocks Moved the Nasdaq After Hours</td>\n",
       "      <td>ALGN</td>\n",
       "      <td>Investors remained on uncertain footing on Wed...</td>\n",
       "      <td>321.950012</td>\n",
       "      <td>317.730011</td>\n",
       "      <td>0.0</td>\n",
       "    </tr>\n",
       "    <tr>\n",
       "      <th>356</th>\n",
       "      <td>2023-04-30</td>\n",
       "      <td>These 2 Stocks Moved the Nasdaq After Hours</td>\n",
       "      <td>ALGN</td>\n",
       "      <td>Investors remained on uncertain footing on Wed...</td>\n",
       "      <td>321.950012</td>\n",
       "      <td>317.730011</td>\n",
       "      <td>0.0</td>\n",
       "    </tr>\n",
       "    <tr>\n",
       "      <th>357</th>\n",
       "      <td>2023-05-01</td>\n",
       "      <td>Invisalign maker Align Tech stock falls more t...</td>\n",
       "      <td>ALGN</td>\n",
       "      <td>Shares of Align Technology Inc. dropped more t...</td>\n",
       "      <td>351.829987</td>\n",
       "      <td>354.549988</td>\n",
       "      <td>1.0</td>\n",
       "    </tr>\n",
       "    <tr>\n",
       "      <th>358</th>\n",
       "      <td>2023-05-02</td>\n",
       "      <td>Stocks making the biggest moves after hours: M...</td>\n",
       "      <td>ALGN</td>\n",
       "      <td>These are the stocks posting the largest moves...</td>\n",
       "      <td>351.829987</td>\n",
       "      <td>354.549988</td>\n",
       "      <td>1.0</td>\n",
       "    </tr>\n",
       "    <tr>\n",
       "      <th>359</th>\n",
       "      <td>2023-05-03</td>\n",
       "      <td>Align Technology Q1 Earnings: Way Too Expensive</td>\n",
       "      <td>ALGN</td>\n",
       "      <td>Align Technology is facing increasing headwind...</td>\n",
       "      <td>324.890015</td>\n",
       "      <td>317.329987</td>\n",
       "      <td>0.0</td>\n",
       "    </tr>\n",
       "  </tbody>\n",
       "</table>\n",
       "<p>360 rows × 7 columns</p>\n",
       "</div>"
      ],
      "text/plain": [
       "       datetime                                           headline related  \\\n",
       "0    2022-05-09  Align Technology Inc. stock underperforms Mond...    ALGN   \n",
       "1    2022-05-10  Align Technology Inc. stock outperforms market...    ALGN   \n",
       "2    2022-05-11  7 Dental Stocks to Buy as Patients Face the Dr...    ALGN   \n",
       "3    2022-05-12  Align Technology Inc. stock outperforms market...    ALGN   \n",
       "4    2022-05-13  Align Technology Inc. stock rises Tuesday, out...    ALGN   \n",
       "..          ...                                                ...     ...   \n",
       "355  2023-04-29        These 2 Stocks Moved the Nasdaq After Hours    ALGN   \n",
       "356  2023-04-30        These 2 Stocks Moved the Nasdaq After Hours    ALGN   \n",
       "357  2023-05-01  Invisalign maker Align Tech stock falls more t...    ALGN   \n",
       "358  2023-05-02  Stocks making the biggest moves after hours: M...    ALGN   \n",
       "359  2023-05-03    Align Technology Q1 Earnings: Way Too Expensive    ALGN   \n",
       "\n",
       "                                               summary        Open  \\\n",
       "0    Shares of Align Technology Inc. shed 4.08% to ...  274.220001   \n",
       "1    Shares of Align Technology Inc. rose 6.16% to ...  264.420013   \n",
       "2    The two years away from the “chair” could cyni...  274.220001   \n",
       "3    Shares of Align Technology Inc. rose 6.16% to ...  264.420013   \n",
       "4    Shares of Align Technology Inc. rose 2.33% to ...  279.959991   \n",
       "..                                                 ...         ...   \n",
       "355  Investors remained on uncertain footing on Wed...  321.950012   \n",
       "356  Investors remained on uncertain footing on Wed...  321.950012   \n",
       "357  Shares of Align Technology Inc. dropped more t...  351.829987   \n",
       "358  These are the stocks posting the largest moves...  351.829987   \n",
       "359  Align Technology is facing increasing headwind...  324.890015   \n",
       "\n",
       "          Close  result  \n",
       "0    268.959991     0.0  \n",
       "1    275.519989     1.0  \n",
       "2    268.959991     0.0  \n",
       "3    275.519989     1.0  \n",
       "4    280.589996     1.0  \n",
       "..          ...     ...  \n",
       "355  317.730011     0.0  \n",
       "356  317.730011     0.0  \n",
       "357  354.549988     1.0  \n",
       "358  354.549988     1.0  \n",
       "359  317.329987     0.0  \n",
       "\n",
       "[360 rows x 7 columns]"
      ]
     },
     "execution_count": 59,
     "metadata": {},
     "output_type": "execute_result"
    }
   ],
   "source": [
    "df= pd.read_csv(\"stock_new_data/ALGN.csv\")\n",
    "gap_list = stock_date_range(df)\n",
    "# print(df.head())\n",
    "new_df = pd.DataFrame(columns=['datetime', 'headline', 'related', 'summary', 'Open', 'Close', 'result'])\n",
    "for _date in gap_list:\n",
    "    nearest_rows = df.loc[(pd.to_datetime(df['datetime']) - pd.to_datetime(_date)).abs().argsort()[:15]]\n",
    "    row = nearest_rows.iloc[random.randint(0, min(len(nearest_rows), 15) - 1)]\n",
    "    new_row = {'datetime': _date, 'headline': row['headline'], 'related': row['related'], 'summary': row['summary'], 'Open': row['Open'], 'Close': row['Close'], 'result': row['result']}\n",
    "    new_df = new_df.append(new_row, ignore_index=True)\n",
    "new_df\n",
    " "
   ]
  },
  {
   "attachments": {},
   "cell_type": "markdown",
   "metadata": {},
   "source": [
    "### So every time new data comes so a very handy method"
   ]
  },
  {
   "cell_type": "code",
   "execution_count": 41,
   "metadata": {},
   "outputs": [
    {
     "name": "stderr",
     "output_type": "stream",
     "text": [
      "A subdirectory or file complete_year_wise_data already exists.\n"
     ]
    }
   ],
   "source": [
    "mkdir complete_year_wise_data"
   ]
  },
  {
   "attachments": {},
   "cell_type": "markdown",
   "metadata": {},
   "source": [
    "### here we are filling with random 1 from closest 15 nearby to the date"
   ]
  },
  {
   "cell_type": "code",
   "execution_count": 80,
   "metadata": {},
   "outputs": [],
   "source": [
    "def fill_dataframe(df, dates_left):\n",
    "    print(dates_left)\n",
    "    pass\n",
    "    new_df = pd.DataFrame(columns=['datetime', 'headline', 'related', 'summary', 'Open', 'Close', 'result'])\n",
    "    for _date in dates_left:\n",
    "        nearest_rows = df.loc[(pd.to_datetime(df['datetime']) - pd.to_datetime(_date)).abs().argsort()[:15]]\n",
    "        row = nearest_rows.iloc[random.randint(0, min(len(nearest_rows), 15) - 1)]\n",
    "        new_row = {'datetime': _date, 'headline': row['headline'], 'related': row['related'], 'summary': row['summary'], 'Open': row['Open'], 'Close': row['Close'], 'result': row['result']}\n",
    "        new_df = new_df.append(new_row, ignore_index=True)\n",
    "        # break\n",
    "    return new_df\n"
   ]
  },
  {
   "cell_type": "code",
   "execution_count": null,
   "metadata": {},
   "outputs": [],
   "source": [
    "ticker_symbol = ['TSLA','GOOG','INTU','ALGN','AMZN','AAL','MSFT','AMAT','FOX','SBUX','WDC','NFLX','COST','ADBE','EBAY','WDAY','LRCX','BIDU','PYPL']\n",
    "#for each ticker\n",
    "for ticker in ticker_symbol:\n",
    "    print(ticker)\n",
    "    #read ticker data of stock \n",
    "    df = pd.read_csv(f'stock_new_data/{ticker}.csv')\n",
    "\n",
    "    # find range of date present  in ticker.csv file actaully\n",
    "    date_range = stock_date_range(df)\n",
    "    # print(date_range)\n",
    "     # finduniquw dates data present in ticker.csv file actaully\n",
    "    unique_dates = stock_unique_dates(df) \n",
    "    # print(unique_dates)\n",
    "\n",
    "    # Convert the date strings to sets\n",
    "    date_set1 = set(date_range)\n",
    "    date_set2 = set(unique_dates)\n",
    "\n",
    "    # Find the difference between the sets\n",
    "    stock_empty_dates = date_set1 - date_set2\n",
    "\n",
    "    # Convert the result back to a list\n",
    "    stock_empty_dates = list(stock_empty_dates)\n",
    "    # print(stock_empty_dates)\n",
    "    new_df = fill_dataframe(df, stock_empty_dates)\n",
    "    # concatenate vertically\n",
    "    result = pd.concat([df, new_df], axis=0)\n",
    "    # Append the new row to the original DataFrame\n",
    "    # break\n",
    "    result = result.sort_values('datetime')\n",
    "    result.to_csv(f\"complete_year_wise_data/{ticker}.csv\",index=False)\n"
   ]
  },
  {
   "cell_type": "code",
   "execution_count": 77,
   "metadata": {},
   "outputs": [],
   "source": [
    "df = pd.read_csv(\"complete_year_wise_data/ALGN.csv\")"
   ]
  },
  {
   "cell_type": "code",
   "execution_count": 78,
   "metadata": {},
   "outputs": [],
   "source": [
    "df = df.drop_duplicates(subset=['datetime'], keep='first')\n",
    "df.to_csv(\"complete_year_wise_data/ALGN.csv\")"
   ]
  }
 ],
 "metadata": {
  "kernelspec": {
   "display_name": "base",
   "language": "python",
   "name": "python3"
  },
  "language_info": {
   "codemirror_mode": {
    "name": "ipython",
    "version": 3
   },
   "file_extension": ".py",
   "mimetype": "text/x-python",
   "name": "python",
   "nbconvert_exporter": "python",
   "pygments_lexer": "ipython3",
   "version": "3.10.9"
  },
  "orig_nbformat": 4
 },
 "nbformat": 4,
 "nbformat_minor": 2
}
