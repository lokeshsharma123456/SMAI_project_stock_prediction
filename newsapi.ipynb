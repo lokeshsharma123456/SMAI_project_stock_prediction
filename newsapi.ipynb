{
 "cells": [
  {
   "cell_type": "code",
   "execution_count": null,
   "metadata": {},
   "outputs": [],
   "source": [
    "import pandas as pd\n",
    "import requests\n",
    "\n",
    "# List of ticker symbols\n",
    "ticker_symbol = ['AAPL','GOOG','INTU','ALGN','AMZN','AAL','MSFT','AMAT','FOX',\n",
    "                 'SBUX','WDC','NFLX','COST','ADBE','EBAY','WDAY','LRCX','BIDU','PYPL']\n",
    "\n",
    "# Your NewsAPI API key\n",
    "api_key = 'ca480e316b3d434b9fff1dd5f09cc3c2'\n",
    "\n",
    "# Create an empty dataframe to store the data\n",
    "df = pd.DataFrame(columns=['Date', 'News Headline', 'Closing Price', 'Next Day Prediction'])\n",
    "\n",
    "# Loop through each ticker symbol and retrieve news articles\n",
    "for symbol in ticker_symbol:\n",
    "    url = f\"https://newsapi.org/v2/everything?q={symbol}&from=2020-05-03&to=2023-05-03&sortBy=popularity&apiKey={api_key}\"\n",
    "    response = requests.get(url)\n",
    "    \n",
    "    # Check the response status code\n",
    "    if response.status_code != 200:\n",
    "        print(f\"Error: Status code {response.status_code} returned for {symbol} symbol.\")\n",
    "        continue\n",
    "    \n",
    "    # Extract the articles from the response JSON\n",
    "    try:\n",
    "        articles = response.json()['articles']\n",
    "    except KeyError:\n",
    "        print(f\"Error: No 'articles' key found in response for {symbol} symbol.\")\n",
    "        continue\n",
    "    \n",
    "    # Loop through each article and extract relevant information\n",
    "    for article in articles:\n",
    "        date = article['publishedAt']\n",
    "        headline = article['title']\n",
    "        summary = article['description']\n",
    "        \n",
    "        # Append the data to a new row of the dataframe\n",
    "        df = df.append({'Date': date, 'News Headline': headline, 'Closing Price': None, 'Next Day Prediction': None}, ignore_index=True)\n"
   ]
  },
  {
   "attachments": {},
   "cell_type": "markdown",
   "metadata": {},
   "source": [
    "# new yourk"
   ]
  },
  {
   "cell_type": "code",
   "execution_count": null,
   "metadata": {},
   "outputs": [],
   "source": [
    "import pandas as pd\n",
    "from nytimesarticle import articleAPI\n",
    "\n",
    "# List of ticker symbols\n",
    "ticker_symbol = ['AAPL','GOOG','INTU','ALGN','AMZN','AAL','MSFT','AMAT','FOX',\n",
    "                 'SBUX','WDC','NFLX','COST','ADBE','EBAY','WDAY','LRCX','BIDU','PYPL']\n",
    "\n",
    "# Your New York Times API key\n",
    "api_key = 'your_api_key_here'\n",
    "\n",
    "# Create an empty dataframe to store the data\n",
    "df = pd.DataFrame(columns=['Date', 'News Headline', 'Snippet'])\n",
    "\n",
    "# Initialize the articleAPI object with the API key\n",
    "api = articleAPI(api_key)\n",
    "\n",
    "# Loop through each ticker symbol and retrieve articles\n",
    "for symbol in ticker_symbol:\n",
    "    articles = api.search(q=symbol, begin_date='20200101', end_date='20230504')\n",
    "    \n",
    "    # Loop through each article and extract relevant information\n",
    "    for article in articles['response']['docs']:\n",
    "        date = article['pub_date']\n",
    "        headline = article['headline']['main']\n",
    "        snippet = article['snippet']\n",
    "        \n",
    "        # Append the data to a new row of the dataframe\n",
    "        df = df.append({'Date': date, 'News Headline': headline, 'Snippet': snippet}, ignore_index=True)\n",
    "        \n",
    "# Group the dataframe by date and concatenate headlines/snippets for each day\n",
    "grouped = df.groupby('Date').agg({'News Headline': lambda x: '\\n'.join(x), 'Snippet': lambda x: '\\n'.join(x)}).reset_index()\n",
    "\n",
    "# Rename the columns and sort by date\n",
    "grouped.columns = ['Date', 'News Headline', 'Snippet']\n",
    "grouped = grouped.sort_values('Date')\n",
    "\n",
    "# Print the resulting dataframe\n",
    "print(grouped)\n"
   ]
  },
  {
   "attachments": {},
   "cell_type": "markdown",
   "metadata": {},
   "source": [
    "\n",
    "\n",
    "\n",
    "\n",
    "\n",
    "\n",
    "\n",
    "\n",
    "\n",
    "\n",
    "\n",
    "# NEW"
   ]
  },
  {
   "cell_type": "code",
   "execution_count": null,
   "metadata": {},
   "outputs": [],
   "source": [
    "pip install nytimesarticle\n"
   ]
  },
  {
   "cell_type": "code",
   "execution_count": null,
   "metadata": {},
   "outputs": [],
   "source": [
    "!pip install newsapi"
   ]
  },
  {
   "cell_type": "code",
   "execution_count": null,
   "metadata": {},
   "outputs": [],
   "source": [
    "from newsapi import NewsApiClient\n",
    "\n",
    "newsapi = NewsApiClient(api_key='ca480e316b3d434b9fff1dd5f09cc3c2')\n",
    "newsapi"
   ]
  },
  {
   "cell_type": "code",
   "execution_count": 5,
   "metadata": {},
   "outputs": [
    {
     "name": "stdout",
     "output_type": "stream",
     "text": [
      "2022-11-01 00:00:00\n",
      "Fetching news for 2022-11-01\n"
     ]
    },
    {
     "ename": "NewsAPIException",
     "evalue": "{'status': 'error', 'code': 'parameterInvalid', 'message': 'You are trying to request results too far in the past. Your plan permits you to request articles as far back as 2023-04-02, but you have requested 2022-11-01. You may need to upgrade to a paid plan.'}",
     "output_type": "error",
     "traceback": [
      "\u001b[1;31m---------------------------------------------------------------------------\u001b[0m",
      "\u001b[1;31mNewsAPIException\u001b[0m                          Traceback (most recent call last)",
      "Cell \u001b[1;32mIn[5], line 22\u001b[0m\n\u001b[0;32m     19\u001b[0m \u001b[39mprint\u001b[39m(\u001b[39mf\u001b[39m\u001b[39m\"\u001b[39m\u001b[39mFetching news for \u001b[39m\u001b[39m{\u001b[39;00mdate_str\u001b[39m}\u001b[39;00m\u001b[39m\"\u001b[39m)\n\u001b[0;32m     21\u001b[0m \u001b[39m# Fetch news articles for the current date\u001b[39;00m\n\u001b[1;32m---> 22\u001b[0m news \u001b[39m=\u001b[39m newsapi\u001b[39m.\u001b[39;49mget_everything(q\u001b[39m=\u001b[39;49m\u001b[39m\"\u001b[39;49m\u001b[39mAAPL\u001b[39;49m\u001b[39m\"\u001b[39;49m, from_param\u001b[39m=\u001b[39;49mdate_str, to\u001b[39m=\u001b[39;49mdate_str, language\u001b[39m=\u001b[39;49m\u001b[39m\"\u001b[39;49m\u001b[39men\u001b[39;49m\u001b[39m\"\u001b[39;49m, sort_by\u001b[39m=\u001b[39;49m\u001b[39m\"\u001b[39;49m\u001b[39mpublishedAt\u001b[39;49m\u001b[39m\"\u001b[39;49m, page_size\u001b[39m=\u001b[39;49m\u001b[39m5\u001b[39;49m)\n\u001b[0;32m     24\u001b[0m \u001b[39m# Extract the headline and summary for each news article and add it to the dataframe\u001b[39;00m\n\u001b[0;32m     25\u001b[0m \u001b[39mfor\u001b[39;00m article \u001b[39min\u001b[39;00m news[\u001b[39m\"\u001b[39m\u001b[39marticles\u001b[39m\u001b[39m\"\u001b[39m]:\n",
      "File \u001b[1;32mc:\\Users\\Lokes\\AppData\\Local\\Programs\\Python\\Python311\\Lib\\site-packages\\newsapi\\newsapi_client.py:334\u001b[0m, in \u001b[0;36mNewsApiClient.get_everything\u001b[1;34m(self, q, qintitle, sources, domains, exclude_domains, from_param, to, language, sort_by, page, page_size)\u001b[0m\n\u001b[0;32m    332\u001b[0m \u001b[39m# Check Status of Request\u001b[39;00m\n\u001b[0;32m    333\u001b[0m \u001b[39mif\u001b[39;00m r\u001b[39m.\u001b[39mstatus_code \u001b[39m!=\u001b[39m requests\u001b[39m.\u001b[39mcodes\u001b[39m.\u001b[39mok:\n\u001b[1;32m--> 334\u001b[0m     \u001b[39mraise\u001b[39;00m NewsAPIException(r\u001b[39m.\u001b[39mjson())\n\u001b[0;32m    336\u001b[0m \u001b[39mreturn\u001b[39;00m r\u001b[39m.\u001b[39mjson()\n",
      "\u001b[1;31mNewsAPIException\u001b[0m: {'status': 'error', 'code': 'parameterInvalid', 'message': 'You are trying to request results too far in the past. Your plan permits you to request articles as far back as 2023-04-02, but you have requested 2022-11-01. You may need to upgrade to a paid plan.'}"
     ]
    }
   ],
   "source": [
    "import pandas as pd\n",
    "from datetime import datetime, timedelta\n",
    "from newsapi import NewsApiClient\n",
    "\n",
    "# Initialize NewsApiClient with your API key\n",
    "api_key = \"ca480e316b3d434b9fff1dd5f09cc3c2\"\n",
    "newsapi = NewsApiClient(api_key=api_key)\n",
    "\n",
    "# Initialize an empty dataframe\n",
    "df = pd.DataFrame(columns=[\"company\", \"date\", \"headline\", \"summary\"])\n",
    "\n",
    "# Set the start and end dates\n",
    "start_date = datetime(2022, 11, 1)\n",
    "end_date = datetime(2022, 11, 10)\n",
    "print(start_date)\n",
    "# Loop through the dates and fetch news articles for each date\n",
    "while start_date <= end_date:\n",
    "    date_str = start_date.strftime(\"%Y-%m-%d\")\n",
    "    print(f\"Fetching news for {date_str}\")\n",
    "\n",
    "    # Fetch news articles for the current date\n",
    "    news = newsapi.get_everything(q=\"AAPL\", from_param=date_str, to=date_str, language=\"en\", sort_by=\"publishedAt\", page_size=5)\n",
    "\n",
    "    # Extract the headline and summary for each news article and add it to the dataframe\n",
    "    for article in news[\"articles\"]:\n",
    "        headline = article[\"title\"]\n",
    "        summary = article[\"description\"]\n",
    "        df = pd.concat([df, pd.DataFrame({\"company\": \"AAPL\", \"date\": date_str, \"headline\": headline, \"summary\": summary}, index=[0])], ignore_index=True)\n",
    "\n",
    "    # Increment the date\n",
    "    start_date += timedelta(days=1)\n",
    "\n",
    "    # Sleep for 1 second to avoid getting blocked by the API\n",
    "    time.sleep(1)\n",
    "\n",
    "# Append the data to a CSV file in append mode\n",
    "df.to_csv(\"news.csv\", mode=\"a\", header=False, index=False)\n"
   ]
  },
  {
   "cell_type": "code",
   "execution_count": null,
   "metadata": {},
   "outputs": [],
   "source": []
  }
 ],
 "metadata": {
  "kernelspec": {
   "display_name": "base",
   "language": "python",
   "name": "python3"
  },
  "language_info": {
   "codemirror_mode": {
    "name": "ipython",
    "version": 3
   },
   "file_extension": ".py",
   "mimetype": "text/x-python",
   "name": "python",
   "nbconvert_exporter": "python",
   "pygments_lexer": "ipython3",
   "version": "3.11.2"
  },
  "orig_nbformat": 4
 },
 "nbformat": 4,
 "nbformat_minor": 2
}
